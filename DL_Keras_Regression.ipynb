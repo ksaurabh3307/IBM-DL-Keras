{
  "nbformat": 4,
  "nbformat_minor": 0,
  "metadata": {
    "colab": {
      "name": "DL_Keras_Regression",
      "provenance": [],
      "collapsed_sections": [],
      "authorship_tag": "ABX9TyOiTbFroYGlBnYrA0oodrxQ",
      "include_colab_link": true
    },
    "kernelspec": {
      "name": "python3",
      "display_name": "Python 3"
    },
    "accelerator": "GPU"
  },
  "cells": [
    {
      "cell_type": "markdown",
      "metadata": {
        "id": "view-in-github",
        "colab_type": "text"
      },
      "source": [
        "<a href=\"https://colab.research.google.com/github/ksaurabh3307/IBM-DL-Keras/blob/master/DL_Keras_Regression.ipynb\" target=\"_parent\"><img src=\"https://colab.research.google.com/assets/colab-badge.svg\" alt=\"Open In Colab\"/></a>"
      ]
    },
    {
      "cell_type": "code",
      "metadata": {
        "id": "mzuyKB37s3sd",
        "colab_type": "code",
        "colab": {}
      },
      "source": [
        "import pandas as pd\n",
        "import numpy as np"
      ],
      "execution_count": null,
      "outputs": []
    },
    {
      "cell_type": "markdown",
      "metadata": {
        "id": "HUyApC1LtEk5",
        "colab_type": "text"
      },
      "source": [
        "Download the data and read using pandas dataframe"
      ]
    },
    {
      "cell_type": "code",
      "metadata": {
        "id": "7xP2vwsMtDVp",
        "colab_type": "code",
        "colab": {}
      },
      "source": [
        "concrete_data = pd.read_csv('https://s3-api.us-geo.objectstorage.softlayer.net/cf-courses-data/CognitiveClass/DL0101EN/labs/data/concrete_data.csv')\n",
        "concrete_data.head()"
      ],
      "execution_count": null,
      "outputs": []
    },
    {
      "cell_type": "markdown",
      "metadata": {
        "id": "LXYzw-t6tRBj",
        "colab_type": "text"
      },
      "source": [
        "Checking the data points"
      ]
    },
    {
      "cell_type": "code",
      "metadata": {
        "id": "y_0gE5IltTVo",
        "colab_type": "code",
        "colab": {}
      },
      "source": [
        "concrete_data.shape"
      ],
      "execution_count": null,
      "outputs": []
    },
    {
      "cell_type": "markdown",
      "metadata": {
        "id": "Nnvd9Q4WtZ8_",
        "colab_type": "text"
      },
      "source": [
        "checking missing values in dataset"
      ]
    },
    {
      "cell_type": "code",
      "metadata": {
        "id": "nNgDUzVytdLg",
        "colab_type": "code",
        "colab": {}
      },
      "source": [
        "concrete_data.describe()"
      ],
      "execution_count": null,
      "outputs": []
    },
    {
      "cell_type": "code",
      "metadata": {
        "id": "8Ei3aXZMtkLz",
        "colab_type": "code",
        "colab": {}
      },
      "source": [
        "concrete_data.isnull().sum()"
      ],
      "execution_count": null,
      "outputs": []
    },
    {
      "cell_type": "markdown",
      "metadata": {
        "id": "z9ykTPlQtphl",
        "colab_type": "text"
      },
      "source": [
        "Spliting data into independent and dependent variables"
      ]
    },
    {
      "cell_type": "code",
      "metadata": {
        "id": "V7JxkyO_tu93",
        "colab_type": "code",
        "colab": {}
      },
      "source": [
        "concrete_data_columns = concrete_data.columns\n",
        "\n",
        "predictors = concrete_data[concrete_data_columns[concrete_data_columns != 'Strength']] # all columns except Strength\n",
        "target = concrete_data['Strength'] # Strength column"
      ],
      "execution_count": null,
      "outputs": []
    },
    {
      "cell_type": "code",
      "metadata": {
        "id": "ICFFVSAutyhs",
        "colab_type": "code",
        "colab": {}
      },
      "source": [
        "predictors.head()"
      ],
      "execution_count": null,
      "outputs": []
    },
    {
      "cell_type": "code",
      "metadata": {
        "id": "6rTme_-2t6C1",
        "colab_type": "code",
        "colab": {}
      },
      "source": [
        "target.head()"
      ],
      "execution_count": null,
      "outputs": []
    },
    {
      "cell_type": "code",
      "metadata": {
        "id": "OU8zms17vLEh",
        "colab_type": "code",
        "colab": {}
      },
      "source": [
        "n_cols_t = predictors.shape[1]\n",
        "n_cols_t"
      ],
      "execution_count": null,
      "outputs": []
    },
    {
      "cell_type": "markdown",
      "metadata": {
        "id": "mbqlg4gCuR93",
        "colab_type": "text"
      },
      "source": [
        "Import Keras"
      ]
    },
    {
      "cell_type": "code",
      "metadata": {
        "id": "yjND-e6guTjT",
        "colab_type": "code",
        "colab": {}
      },
      "source": [
        "import keras"
      ],
      "execution_count": null,
      "outputs": []
    },
    {
      "cell_type": "code",
      "metadata": {
        "id": "KdxbJSiPuZlP",
        "colab_type": "code",
        "colab": {}
      },
      "source": [
        "from keras.models import Sequential\n",
        "from keras.layers import Dense"
      ],
      "execution_count": null,
      "outputs": []
    },
    {
      "cell_type": "markdown",
      "metadata": {
        "id": "1XHc8idxucBu",
        "colab_type": "text"
      },
      "source": [
        "Build a neural network with One hidden layer of 10 nodes, and a ReLU activation function"
      ]
    },
    {
      "cell_type": "code",
      "metadata": {
        "id": "ZNVEwa0fukm6",
        "colab_type": "code",
        "colab": {}
      },
      "source": [
        "# define regression model\n",
        "def regression_model():\n",
        "    # create model\n",
        "    model = Sequential()\n",
        "    model.add(Dense(10, activation='relu', input_shape=(n_cols_t,)))\n",
        "    model.add(Dense(1))\n",
        "    \n",
        "    # compile model\n",
        "    model.compile(optimizer='adam', loss='mean_squared_error')\n",
        "    return model"
      ],
      "execution_count": null,
      "outputs": []
    },
    {
      "cell_type": "markdown",
      "metadata": {
        "id": "3z6tFd7RvcdV",
        "colab_type": "text"
      },
      "source": [
        "Train and test the Network"
      ]
    },
    {
      "cell_type": "code",
      "metadata": {
        "id": "f3tI-525vg-I",
        "colab_type": "code",
        "colab": {}
      },
      "source": [
        "# build the model\n",
        "model = regression_model()"
      ],
      "execution_count": null,
      "outputs": []
    },
    {
      "cell_type": "code",
      "metadata": {
        "id": "uhuNCCyqvljy",
        "colab_type": "code",
        "colab": {}
      },
      "source": [
        "# fit the model\n",
        "model.fit(predictors, target, validation_split=0.3, epochs=50, verbose=2)"
      ],
      "execution_count": null,
      "outputs": []
    },
    {
      "cell_type": "markdown",
      "metadata": {
        "id": "5IfGBGciwYtQ",
        "colab_type": "text"
      },
      "source": [
        "Part B: using Normalized Data"
      ]
    },
    {
      "cell_type": "markdown",
      "metadata": {
        "id": "IMv0LOTpwkOa",
        "colab_type": "text"
      },
      "source": [
        "Normalize the data by substracting the mean and dividing by the standard deviation"
      ]
    },
    {
      "cell_type": "code",
      "metadata": {
        "id": "WXPLMbzIwb3F",
        "colab_type": "code",
        "colab": {}
      },
      "source": [
        "predictors_norm = (predictors - predictors.mean()) / predictors.std()\n",
        "predictors_norm.head()"
      ],
      "execution_count": null,
      "outputs": []
    },
    {
      "cell_type": "markdown",
      "metadata": {
        "id": "fWuvOzD_wuwY",
        "colab_type": "text"
      },
      "source": [
        "Let's save the number of predictors to n_cols since we will need this number when building our network."
      ]
    },
    {
      "cell_type": "code",
      "metadata": {
        "id": "XDmYEbrRwvX9",
        "colab_type": "code",
        "colab": {}
      },
      "source": [
        "n_cols = predictors_norm.shape[1] # number of predictors\n",
        "n_cols"
      ],
      "execution_count": null,
      "outputs": []
    },
    {
      "cell_type": "code",
      "metadata": {
        "id": "Ne4l9KJcw3mC",
        "colab_type": "code",
        "colab": {}
      },
      "source": [
        "# define regression model\n",
        "def regression_model():\n",
        "    # create model\n",
        "    model = Sequential()\n",
        "    model.add(Dense(50, activation='relu', input_shape=(n_cols,)))\n",
        "    model.add(Dense(1))\n",
        "    \n",
        "    # compile model\n",
        "    model.compile(optimizer='adam', loss='mean_squared_error')\n",
        "    return model"
      ],
      "execution_count": null,
      "outputs": []
    },
    {
      "cell_type": "code",
      "metadata": {
        "id": "cjGCcEAhw7B2",
        "colab_type": "code",
        "colab": {}
      },
      "source": [
        "# build the model\n",
        "model = regression_model()"
      ],
      "execution_count": null,
      "outputs": []
    },
    {
      "cell_type": "code",
      "metadata": {
        "id": "0zttWBapxBz6",
        "colab_type": "code",
        "colab": {}
      },
      "source": [
        "# fit the model\n",
        "model.fit(predictors_norm, target, validation_split=0.3, epochs=50, verbose=2)"
      ],
      "execution_count": null,
      "outputs": []
    },
    {
      "cell_type": "markdown",
      "metadata": {
        "id": "niU58hORxJhD",
        "colab_type": "text"
      },
      "source": [
        "Part C Epoch =100"
      ]
    },
    {
      "cell_type": "code",
      "metadata": {
        "id": "0IA3ctKwxLlA",
        "colab_type": "code",
        "colab": {}
      },
      "source": [
        "# fit the model\n",
        "model.fit(predictors_norm, target, validation_split=0.3, epochs=100, verbose=2)"
      ],
      "execution_count": null,
      "outputs": []
    },
    {
      "cell_type": "markdown",
      "metadata": {
        "id": "yx_Om7kvxjmj",
        "colab_type": "text"
      },
      "source": [
        "Part D:  Three hidden layers, each of 10 nodes and ReLU activation function."
      ]
    },
    {
      "cell_type": "code",
      "metadata": {
        "id": "za8JNBsNxqsd",
        "colab_type": "code",
        "colab": {}
      },
      "source": [
        "# define regression model\n",
        "def regression_model():\n",
        "    # create model\n",
        "    model = Sequential()\n",
        "    model.add(Dense(10, activation='relu', input_shape=(n_cols,)))\n",
        "    model.add(Dense(10, activation='relu'))\n",
        "    model.add(Dense(10, activation='relu'))\n",
        "    model.add(Dense(1))\n",
        "    \n",
        "    # compile model\n",
        "    model.compile(optimizer='adam', loss='mean_squared_error')\n",
        "    return model"
      ],
      "execution_count": null,
      "outputs": []
    },
    {
      "cell_type": "code",
      "metadata": {
        "id": "jEQUnmVmx1n6",
        "colab_type": "code",
        "colab": {}
      },
      "source": [
        "# build the model\n",
        "model = regression_model()"
      ],
      "execution_count": null,
      "outputs": []
    },
    {
      "cell_type": "code",
      "metadata": {
        "id": "rUfCZWy7x5PN",
        "colab_type": "code",
        "colab": {}
      },
      "source": [
        "# fit the model\n",
        "model.fit(predictors_norm, target, validation_split=0.3, epochs=100, verbose=2)"
      ],
      "execution_count": null,
      "outputs": []
    }
  ]
}